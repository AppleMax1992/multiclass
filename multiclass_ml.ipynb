{
 "cells": [
  {
   "cell_type": "code",
   "execution_count": 1,
   "metadata": {},
   "outputs": [],
   "source": [
    "import pandas as pd, numpy as np\n",
    "from sklearn.linear_model import LogisticRegression\n",
    "\n",
    "from sklearn.ensemble import RandomForestClassifier\n",
    "\n",
    "from sklearn import tree\n",
    "from sklearn.ensemble import GradientBoostingClassifier\n",
    "from sklearn.neural_network import MLPClassifier\n",
    "from sklearn.feature_extraction.text import CountVectorizer, TfidfVectorizer\n",
    "from sklearn.pipeline import Pipeline\n",
    "from sklearn.naive_bayes import MultinomialNB\n",
    "from nltk.corpus import stopwords\n",
    "from sklearn.multiclass import OneVsRestClassifier\n",
    "import re, string\n",
    "from sklearn.model_selection import train_test_split # Not for Kaggle\n",
    "import jieba.posseg as pseg\n",
    "from nltk.corpus.reader import wordlist\n"
   ]
  },
  {
   "cell_type": "code",
   "execution_count": 2,
   "metadata": {},
   "outputs": [],
   "source": [
    "# 随机抽取 抽过一次做测试的时候就不用再抽了\n",
    "# data = pd.read_csv('./resFin.csv')\n",
    "\n",
    "# train, test = train_test_split(data) # shuffle=False resulted in \"Invalid parameters passed\". Why?\n",
    "# train.to_csv(\"./train_samples.csv\",index=False,encoding='utf_8_sig')\n",
    "# test.to_csv(\"./test_samples.csv\",index=False,encoding='utf_8_sig')"
   ]
  },
  {
   "cell_type": "code",
   "execution_count": null,
   "metadata": {},
   "outputs": [],
   "source": [
    "# 读取数据\n",
    "train = pd.read_csv('./train_samples.csv')\n",
    "test = pd.read_csv('./test_samples.csv')\n",
    "\n"
   ]
  },
  {
   "cell_type": "code",
   "execution_count": 3,
   "metadata": {},
   "outputs": [
    {
     "data": {
      "text/html": [
       "<div>\n",
       "<style scoped>\n",
       "    .dataframe tbody tr th:only-of-type {\n",
       "        vertical-align: middle;\n",
       "    }\n",
       "\n",
       "    .dataframe tbody tr th {\n",
       "        vertical-align: top;\n",
       "    }\n",
       "\n",
       "    .dataframe thead th {\n",
       "        text-align: right;\n",
       "    }\n",
       "</style>\n",
       "<table border=\"1\" class=\"dataframe\">\n",
       "  <thead>\n",
       "    <tr style=\"text-align: right;\">\n",
       "      <th></th>\n",
       "      <th>id</th>\n",
       "      <th>name</th>\n",
       "      <th>text</th>\n",
       "      <th>中文名</th>\n",
       "      <th>外文名</th>\n",
       "      <th>别名</th>\n",
       "      <th>拼音</th>\n",
       "      <th>国籍</th>\n",
       "      <th>本名</th>\n",
       "      <th>作者</th>\n",
       "      <th>类型</th>\n",
       "      <th>书名</th>\n",
       "      <th>作品名称</th>\n",
       "    </tr>\n",
       "  </thead>\n",
       "  <tbody>\n",
       "    <tr>\n",
       "      <th>4777</th>\n",
       "      <td>6625</td>\n",
       "      <td>工业文明</td>\n",
       "      <td>工业文明，是指工业社会文明亦即未来学家托夫勒所言的第二次浪潮文明，它贯穿着劳动方式最优化、劳...</td>\n",
       "      <td>1</td>\n",
       "      <td>0</td>\n",
       "      <td>0</td>\n",
       "      <td>0</td>\n",
       "      <td>0</td>\n",
       "      <td>0</td>\n",
       "      <td>0</td>\n",
       "      <td>0</td>\n",
       "      <td>0</td>\n",
       "      <td>0</td>\n",
       "    </tr>\n",
       "    <tr>\n",
       "      <th>5838</th>\n",
       "      <td>8106</td>\n",
       "      <td>敫桂英</td>\n",
       "      <td>敫桂英是京剧折子戏《打神告庙》中的人物，敫桂英曾救助落难书生王魁，两人在海神庙山盟海誓，王魁...</td>\n",
       "      <td>0</td>\n",
       "      <td>0</td>\n",
       "      <td>0</td>\n",
       "      <td>0</td>\n",
       "      <td>0</td>\n",
       "      <td>1</td>\n",
       "      <td>0</td>\n",
       "      <td>0</td>\n",
       "      <td>0</td>\n",
       "      <td>0</td>\n",
       "    </tr>\n",
       "    <tr>\n",
       "      <th>3712</th>\n",
       "      <td>5118</td>\n",
       "      <td>上海中晨数字技术设备有限公司</td>\n",
       "      <td>上海中晨数字技术设备有限公司于2000年10月24日在普陀区市场监督管理局登记成立。法定代表...</td>\n",
       "      <td>0</td>\n",
       "      <td>0</td>\n",
       "      <td>0</td>\n",
       "      <td>0</td>\n",
       "      <td>0</td>\n",
       "      <td>0</td>\n",
       "      <td>0</td>\n",
       "      <td>0</td>\n",
       "      <td>0</td>\n",
       "      <td>0</td>\n",
       "    </tr>\n",
       "    <tr>\n",
       "      <th>4322</th>\n",
       "      <td>6008</td>\n",
       "      <td>洛威·舍曼</td>\n",
       "      <td>洛威·舍曼，影视演员、导演，主要作品有《希腊人对此有说法》等。 洛威·舍曼主要作品 编辑 语...</td>\n",
       "      <td>1</td>\n",
       "      <td>0</td>\n",
       "      <td>0</td>\n",
       "      <td>0</td>\n",
       "      <td>0</td>\n",
       "      <td>0</td>\n",
       "      <td>0</td>\n",
       "      <td>0</td>\n",
       "      <td>0</td>\n",
       "      <td>0</td>\n",
       "    </tr>\n",
       "    <tr>\n",
       "      <th>1009</th>\n",
       "      <td>1453</td>\n",
       "      <td>肪</td>\n",
       "      <td>【汉字】肪，【拼音】fáng [1] 肪详细释义 编辑 语音 〈名〉形声。字从肉从方，方亦声...</td>\n",
       "      <td>1</td>\n",
       "      <td>0</td>\n",
       "      <td>0</td>\n",
       "      <td>1</td>\n",
       "      <td>0</td>\n",
       "      <td>0</td>\n",
       "      <td>0</td>\n",
       "      <td>0</td>\n",
       "      <td>0</td>\n",
       "      <td>0</td>\n",
       "    </tr>\n",
       "  </tbody>\n",
       "</table>\n",
       "</div>"
      ],
      "text/plain": [
       "        id            name                                               text  \\\n",
       "4777  6625            工业文明  工业文明，是指工业社会文明亦即未来学家托夫勒所言的第二次浪潮文明，它贯穿着劳动方式最优化、劳...   \n",
       "5838  8106             敫桂英  敫桂英是京剧折子戏《打神告庙》中的人物，敫桂英曾救助落难书生王魁，两人在海神庙山盟海誓，王魁...   \n",
       "3712  5118  上海中晨数字技术设备有限公司  上海中晨数字技术设备有限公司于2000年10月24日在普陀区市场监督管理局登记成立。法定代表...   \n",
       "4322  6008           洛威·舍曼  洛威·舍曼，影视演员、导演，主要作品有《希腊人对此有说法》等。 洛威·舍曼主要作品 编辑 语...   \n",
       "1009  1453               肪  【汉字】肪，【拼音】fáng [1] 肪详细释义 编辑 语音 〈名〉形声。字从肉从方，方亦声...   \n",
       "\n",
       "      中文名  外文名  别名  拼音  国籍  本名  作者  类型  书名  作品名称  \n",
       "4777    1    0   0   0   0   0   0   0   0     0  \n",
       "5838    0    0   0   0   0   1   0   0   0     0  \n",
       "3712    0    0   0   0   0   0   0   0   0     0  \n",
       "4322    1    0   0   0   0   0   0   0   0     0  \n",
       "1009    1    0   0   1   0   0   0   0   0     0  "
      ]
     },
     "execution_count": 3,
     "metadata": {},
     "output_type": "execute_result"
    }
   ],
   "source": [
    "train.head()"
   ]
  },
  {
   "cell_type": "code",
   "execution_count": 4,
   "metadata": {},
   "outputs": [],
   "source": [
    "# train['text'][0]"
   ]
  },
  {
   "cell_type": "code",
   "execution_count": 5,
   "metadata": {},
   "outputs": [],
   "source": [
    "# train['text'][2]"
   ]
  },
  {
   "cell_type": "code",
   "execution_count": 6,
   "metadata": {},
   "outputs": [
    {
     "data": {
      "text/plain": [
       "(2215.5136846867226, 2602.506523627819, 25106)"
      ]
     },
     "execution_count": 6,
     "metadata": {},
     "output_type": "execute_result"
    }
   ],
   "source": [
    "lens = train.text.str.len()\n",
    "lens.mean(), lens.std(), lens.max()"
   ]
  },
  {
   "cell_type": "code",
   "execution_count": 7,
   "metadata": {},
   "outputs": [
    {
     "data": {
      "image/png": "[encoded data removed]",
      "text/plain": [
       "<Figure size 432x288 with 1 Axes>"
      ]
     },
     "metadata": {
      "needs_background": "light"
     },
     "output_type": "display_data"
    }
   ],
   "source": [
    "lens.hist();"
   ]
  },
  {
   "cell_type": "code",
   "execution_count": 8,
   "metadata": {},
   "outputs": [
    {
     "name": "stderr",
     "output_type": "stream",
     "text": [
      "C:\\Users\\15728\\AppData\\Roaming\\Python\\Python36\\site-packages\\ipykernel_launcher.py:4: SettingWithCopyWarning: \n",
      "A value is trying to be set on a copy of a slice from a DataFrame.\n",
      "Try using .loc[row_indexer,col_indexer] = value instead\n",
      "\n",
      "See the caveats in the documentation: https://pandas.pydata.org/pandas-docs/stable/user_guide/indexing.html#returning-a-view-versus-a-copy\n",
      "  after removing the cwd from sys.path.\n"
     ]
    },
    {
     "data": {
      "text/html": [
       "<div>\n",
       "<style scoped>\n",
       "    .dataframe tbody tr th:only-of-type {\n",
       "        vertical-align: middle;\n",
       "    }\n",
       "\n",
       "    .dataframe tbody tr th {\n",
       "        vertical-align: top;\n",
       "    }\n",
       "\n",
       "    .dataframe thead th {\n",
       "        text-align: right;\n",
       "    }\n",
       "</style>\n",
       "<table border=\"1\" class=\"dataframe\">\n",
       "  <thead>\n",
       "    <tr style=\"text-align: right;\">\n",
       "      <th></th>\n",
       "      <th>id</th>\n",
       "      <th>中文名</th>\n",
       "      <th>外文名</th>\n",
       "      <th>别名</th>\n",
       "      <th>拼音</th>\n",
       "      <th>国籍</th>\n",
       "      <th>本名</th>\n",
       "      <th>作者</th>\n",
       "      <th>类型</th>\n",
       "      <th>书名</th>\n",
       "      <th>作品名称</th>\n",
       "      <th>none</th>\n",
       "    </tr>\n",
       "  </thead>\n",
       "  <tbody>\n",
       "    <tr>\n",
       "      <th>count</th>\n",
       "      <td>4421.000000</td>\n",
       "      <td>4421.000000</td>\n",
       "      <td>4421.000000</td>\n",
       "      <td>4421.000000</td>\n",
       "      <td>4421.000000</td>\n",
       "      <td>4421.000000</td>\n",
       "      <td>4421.000000</td>\n",
       "      <td>4421.000000</td>\n",
       "      <td>4421.000000</td>\n",
       "      <td>4421.000000</td>\n",
       "      <td>4421.000000</td>\n",
       "      <td>4421.000000</td>\n",
       "    </tr>\n",
       "    <tr>\n",
       "      <th>mean</th>\n",
       "      <td>4078.889392</td>\n",
       "      <td>0.905225</td>\n",
       "      <td>0.517078</td>\n",
       "      <td>0.053834</td>\n",
       "      <td>0.045012</td>\n",
       "      <td>0.034155</td>\n",
       "      <td>0.028274</td>\n",
       "      <td>0.023298</td>\n",
       "      <td>0.018322</td>\n",
       "      <td>0.016060</td>\n",
       "      <td>0.009952</td>\n",
       "      <td>0.018774</td>\n",
       "    </tr>\n",
       "    <tr>\n",
       "      <th>std</th>\n",
       "      <td>2337.151546</td>\n",
       "      <td>0.292937</td>\n",
       "      <td>0.499765</td>\n",
       "      <td>0.225715</td>\n",
       "      <td>0.207355</td>\n",
       "      <td>0.181648</td>\n",
       "      <td>0.165774</td>\n",
       "      <td>0.150865</td>\n",
       "      <td>0.134127</td>\n",
       "      <td>0.125719</td>\n",
       "      <td>0.099276</td>\n",
       "      <td>0.135741</td>\n",
       "    </tr>\n",
       "    <tr>\n",
       "      <th>min</th>\n",
       "      <td>0.000000</td>\n",
       "      <td>0.000000</td>\n",
       "      <td>0.000000</td>\n",
       "      <td>0.000000</td>\n",
       "      <td>0.000000</td>\n",
       "      <td>0.000000</td>\n",
       "      <td>0.000000</td>\n",
       "      <td>0.000000</td>\n",
       "      <td>0.000000</td>\n",
       "      <td>0.000000</td>\n",
       "      <td>0.000000</td>\n",
       "      <td>0.000000</td>\n",
       "    </tr>\n",
       "    <tr>\n",
       "      <th>25%</th>\n",
       "      <td>2063.000000</td>\n",
       "      <td>1.000000</td>\n",
       "      <td>0.000000</td>\n",
       "      <td>0.000000</td>\n",
       "      <td>0.000000</td>\n",
       "      <td>0.000000</td>\n",
       "      <td>0.000000</td>\n",
       "      <td>0.000000</td>\n",
       "      <td>0.000000</td>\n",
       "      <td>0.000000</td>\n",
       "      <td>0.000000</td>\n",
       "      <td>0.000000</td>\n",
       "    </tr>\n",
       "    <tr>\n",
       "      <th>50%</th>\n",
       "      <td>4092.000000</td>\n",
       "      <td>1.000000</td>\n",
       "      <td>1.000000</td>\n",
       "      <td>0.000000</td>\n",
       "      <td>0.000000</td>\n",
       "      <td>0.000000</td>\n",
       "      <td>0.000000</td>\n",
       "      <td>0.000000</td>\n",
       "      <td>0.000000</td>\n",
       "      <td>0.000000</td>\n",
       "      <td>0.000000</td>\n",
       "      <td>0.000000</td>\n",
       "    </tr>\n",
       "    <tr>\n",
       "      <th>75%</th>\n",
       "      <td>6096.000000</td>\n",
       "      <td>1.000000</td>\n",
       "      <td>1.000000</td>\n",
       "      <td>0.000000</td>\n",
       "      <td>0.000000</td>\n",
       "      <td>0.000000</td>\n",
       "      <td>0.000000</td>\n",
       "      <td>0.000000</td>\n",
       "      <td>0.000000</td>\n",
       "      <td>0.000000</td>\n",
       "      <td>0.000000</td>\n",
       "      <td>0.000000</td>\n",
       "    </tr>\n",
       "    <tr>\n",
       "      <th>max</th>\n",
       "      <td>8180.000000</td>\n",
       "      <td>1.000000</td>\n",
       "      <td>1.000000</td>\n",
       "      <td>1.000000</td>\n",
       "      <td>1.000000</td>\n",
       "      <td>1.000000</td>\n",
       "      <td>1.000000</td>\n",
       "      <td>1.000000</td>\n",
       "      <td>1.000000</td>\n",
       "      <td>1.000000</td>\n",
       "      <td>1.000000</td>\n",
       "      <td>1.000000</td>\n",
       "    </tr>\n",
       "  </tbody>\n",
       "</table>\n",
       "</div>"
      ],
      "text/plain": [
       "                id          中文名          外文名           别名           拼音  \\\n",
       "count  4421.000000  4421.000000  4421.000000  4421.000000  4421.000000   \n",
       "mean   4078.889392     0.905225     0.517078     0.053834     0.045012   \n",
       "std    2337.151546     0.292937     0.499765     0.225715     0.207355   \n",
       "min       0.000000     0.000000     0.000000     0.000000     0.000000   \n",
       "25%    2063.000000     1.000000     0.000000     0.000000     0.000000   \n",
       "50%    4092.000000     1.000000     1.000000     0.000000     0.000000   \n",
       "75%    6096.000000     1.000000     1.000000     0.000000     0.000000   \n",
       "max    8180.000000     1.000000     1.000000     1.000000     1.000000   \n",
       "\n",
       "                国籍           本名           作者           类型           书名  \\\n",
       "count  4421.000000  4421.000000  4421.000000  4421.000000  4421.000000   \n",
       "mean      0.034155     0.028274     0.023298     0.018322     0.016060   \n",
       "std       0.181648     0.165774     0.150865     0.134127     0.125719   \n",
       "min       0.000000     0.000000     0.000000     0.000000     0.000000   \n",
       "25%       0.000000     0.000000     0.000000     0.000000     0.000000   \n",
       "50%       0.000000     0.000000     0.000000     0.000000     0.000000   \n",
       "75%       0.000000     0.000000     0.000000     0.000000     0.000000   \n",
       "max       1.000000     1.000000     1.000000     1.000000     1.000000   \n",
       "\n",
       "              作品名称         none  \n",
       "count  4421.000000  4421.000000  \n",
       "mean      0.009952     0.018774  \n",
       "std       0.099276     0.135741  \n",
       "min       0.000000     0.000000  \n",
       "25%       0.000000     0.000000  \n",
       "50%       0.000000     0.000000  \n",
       "75%       0.000000     0.000000  \n",
       "max       1.000000     1.000000  "
      ]
     },
     "execution_count": 8,
     "metadata": {},
     "output_type": "execute_result"
    }
   ],
   "source": [
    "# 洗发水\tBB霜\tT区\t按摩膏\t彩妆套装\t唇部护理\t唇彩\t唇膏\t唇线笔\t定妆喷雾\t发膜\t防晒\t粉底液\t隔离\t护发素\t护肤套装\t护手霜\t睫毛膏\t精油\t眉笔眉粉\t美甲\t气垫\t染发\t散粉\t身体乳\t爽肤水\t脱毛\t洗护套装\t香水\t修容高光\t胭脂腮红\t眼影\t眼线\t造型\t遮瑕\t妆前乳\t眼霜\t面部精华\t乳液面霜\t面膜\t洁面\t面部磨砂\t卸妆\t粉饼干湿两用粉饼\t粉底霜膏\t香水套装\t粉底棒条\n",
    "\n",
    "label_cols = ['中文名',\t'外文名',\t'别名',\t'拼音',\t'国籍',\t'本名',\t'作者',\t'类型',\t'书名',\t'作品名称']\n",
    "train['none'] = 1-train[label_cols].max(axis=1)\n",
    "train.describe()"
   ]
  },
  {
   "cell_type": "code",
   "execution_count": 9,
   "metadata": {},
   "outputs": [
    {
     "data": {
      "text/plain": [
       "(4421, 1474)"
      ]
     },
     "execution_count": 9,
     "metadata": {},
     "output_type": "execute_result"
    }
   ],
   "source": [
    "len(train),len(test)"
   ]
  },
  {
   "cell_type": "code",
   "execution_count": 10,
   "metadata": {},
   "outputs": [
    {
     "name": "stderr",
     "output_type": "stream",
     "text": [
      "C:\\Users\\15728\\AppData\\Local\\Programs\\Python\\Python36\\lib\\site-packages\\pandas\\core\\generic.py:6245: SettingWithCopyWarning: \n",
      "A value is trying to be set on a copy of a slice from a DataFrame\n",
      "\n",
      "See the caveats in the documentation: https://pandas.pydata.org/pandas-docs/stable/user_guide/indexing.html#returning-a-view-versus-a-copy\n",
      "  self._update_inplace(new_data)\n"
     ]
    }
   ],
   "source": [
    "COMMENT = 'text'\n",
    "train[COMMENT].fillna(\"unknown\", inplace=True)\n",
    "test[COMMENT].fillna(\"unknown\", inplace=True)"
   ]
  },
  {
   "cell_type": "code",
   "execution_count": 11,
   "metadata": {},
   "outputs": [],
   "source": [
    "def clean_text(text):\n",
    "    text = text.lower()\n",
    "    text = re.sub(r\"what's\", \"what is \", text)\n",
    "    text = re.sub(r\"\\'s\", \" \", text)\n",
    "    text = re.sub(r\"\\'ve\", \" have \", text)\n",
    "    text = re.sub(r\"can't\", \"can not \", text)\n",
    "    text = re.sub(r\"n't\", \" not \", text)\n",
    "    text = re.sub(r\"i'm\", \"i am \", text)\n",
    "    text = re.sub(r\"\\'re\", \" are \", text)\n",
    "    text = re.sub(r\"\\'d\", \" would \", text)\n",
    "    text = re.sub(r\"\\'ll\", \" will \", text)\n",
    "    text = re.sub(r\"\\'scuse\", \" excuse \", text)\n",
    "    text = re.sub('\\W', ' ', text)\n",
    "    text = re.sub('\\s+', ' ', text)\n",
    "    text = text.strip(' ')\n",
    "    text = text.replace(\" \", \"\")\n",
    "    return text"
   ]
  },
  {
   "cell_type": "code",
   "execution_count": 12,
   "metadata": {},
   "outputs": [
    {
     "name": "stderr",
     "output_type": "stream",
     "text": [
      "C:\\Users\\15728\\AppData\\Roaming\\Python\\Python36\\site-packages\\ipykernel_launcher.py:1: SettingWithCopyWarning: \n",
      "A value is trying to be set on a copy of a slice from a DataFrame.\n",
      "Try using .loc[row_indexer,col_indexer] = value instead\n",
      "\n",
      "See the caveats in the documentation: https://pandas.pydata.org/pandas-docs/stable/user_guide/indexing.html#returning-a-view-versus-a-copy\n",
      "  \"\"\"Entry point for launching an IPython kernel.\n"
     ]
    }
   ],
   "source": [
    "test['text'] = test['text'].map(lambda com : clean_text(com))"
   ]
  },
  {
   "cell_type": "code",
   "execution_count": 13,
   "metadata": {},
   "outputs": [],
   "source": [
    "\n",
    "re_tok = re.compile(f'([{string.punctuation}“”¨«»®´·º½¾¿¡§£₤‘’])')\n",
    "# =IF(ISERROR(MID(B2,FIND(\"】\",B2)+1,99)),B2,MID(B2,FIND(\"】\",B2)+1,99))\n",
    "def tokenize(s): return re_tok.sub(r' \\1 ', s).split()"
   ]
  },
  {
   "cell_type": "code",
   "execution_count": 14,
   "metadata": {},
   "outputs": [
    {
     "name": "stderr",
     "output_type": "stream",
     "text": [
      "Building prefix dict from the default dictionary ...\n",
      "Loading model from cache C:\\Users\\15728\\AppData\\Local\\Temp\\jieba.cache\n",
      "Loading model cost 0.704 seconds.\n",
      "Prefix dict has been built successfully.\n"
     ]
    }
   ],
   "source": [
    "trainWordList = []\n",
    "testWordList = []\n",
    "for item in train[COMMENT]:\n",
    "    # print(item)\n",
    "    words1 = [word.word for word in pseg.cut(item)]\n",
    "    trainWordList.append(','.join(words1))\n",
    "    # print(trainWordList)\n",
    "for item in test[COMMENT]:\n",
    "    # print(item)\n",
    "    words1 = [word.word for word in pseg.cut(item)]\n",
    "    # print()\n",
    "    testWordList.append(','.join(words1))"
   ]
  },
  {
   "cell_type": "code",
   "execution_count": 15,
   "metadata": {},
   "outputs": [],
   "source": [
    "# tdidf版本 2vec\n",
    "# n = train.shape[0]\n",
    "# # TfidfVectorizer 完成向量化与 TF-IDF 预处理\n",
    "\n",
    "# vec = TfidfVectorizer(ngram_range=(1,2), tokenizer=tokenize,\n",
    "#                min_df=3, max_df=0.9, strip_accents='unicode', use_idf=1,encoding='utf-8',\n",
    "#                smooth_idf=1, sublinear_tf=1 )\n",
    "\n",
    "# print(trainWordList)\n",
    "# testWordList\n",
    "# trn_term_doc = vec.fit_transform(trainWordList)\n",
    "# test_term_doc = vec.transform(testWordList)"
   ]
  },
  {
   "cell_type": "code",
   "execution_count": 16,
   "metadata": {},
   "outputs": [],
   "source": [
    "# tdidf版本 2vec 简略版\n",
    "# instantiate the class\n",
    "vectorizer = TfidfVectorizer()\n",
    "#define the corpus\n",
    "# corpus = trainWordList\n",
    "#transform the fitted corpus\n",
    "trn_term_doc= vectorizer.fit_transform(trainWordList)\n",
    "test_term_doc= vectorizer.transform(testWordList)\n",
    "#print the transformed data in matrix form\n",
    "# print(trn_term_doc.toarray())"
   ]
  },
  {
   "cell_type": "code",
   "execution_count": 17,
   "metadata": {},
   "outputs": [],
   "source": [
    "# # 生成语料词典\n",
    "# dictionary = corpora.Dictionary(words_ls)\n",
    "# # print(dictionary)\n",
    "\n",
    "# # Initialise model, for more information, please check the Gensim Word2vec documentation\n",
    "# model = Word2Vec(words_ls,  window=2, min_count=0)\n",
    "# # Get a list of words in the vocabulary\n",
    "# # words = model.wv.vocab.keys()\n",
    "# # Make a dictionary\n",
    "\n",
    "# words = list(model.wv.index_to_key)\n",
    "# we_dict = [ model.wv[word] for word in words]\n",
    "# print(we_dict)\n",
    "# # 生成稀疏向量集\n",
    "# corpus = [dictionary.doc2bow(words) for words in words_ls]\n",
    "# corpus"
   ]
  },
  {
   "cell_type": "code",
   "execution_count": 18,
   "metadata": {},
   "outputs": [
    {
     "data": {
      "text/plain": [
       "(<4421x235198 sparse matrix of type '<class 'numpy.float64'>'\n",
       " \twith 1456386 stored elements in Compressed Sparse Row format>,\n",
       " <1474x235198 sparse matrix of type '<class 'numpy.float64'>'\n",
       " \twith 451245 stored elements in Compressed Sparse Row format>)"
      ]
     },
     "execution_count": 18,
     "metadata": {},
     "output_type": "execute_result"
    }
   ],
   "source": [
    "trn_term_doc, test_term_doc"
   ]
  },
  {
   "cell_type": "code",
   "execution_count": 19,
   "metadata": {},
   "outputs": [],
   "source": [
    "# def pr(y_i, y):\n",
    "#     p = x[y==y_i].sum(0)\n",
    "#     return (p+1) / ((y==y_i).sum()+1)"
   ]
  },
  {
   "cell_type": "code",
   "execution_count": 20,
   "metadata": {},
   "outputs": [],
   "source": [
    "x = trn_term_doc\n",
    "test_x = test_term_doc"
   ]
  },
  {
   "cell_type": "code",
   "execution_count": 21,
   "metadata": {},
   "outputs": [],
   "source": [
    "# def get_mdl(y):\n",
    "    # y = y.values\n",
    "    # r = np.log(pr(1,y) / pr(0,y))\n",
    "    # m = LogisticRegression(C=4, dual=False)\n",
    "    # m = MultinomialNB()\n",
    "    # x_nb = x.multiply(r)\n",
    "    # return m.fit(x_nb, y), r\n",
    "def get_mdl(x,y):\n",
    "    m = MultinomialNB()\n",
    "    return m.fit(x, y)"
   ]
  },
  {
   "cell_type": "code",
   "execution_count": 24,
   "metadata": {},
   "outputs": [
    {
     "name": "stdout",
     "output_type": "stream",
     "text": [
      "fit 中文名\n",
      "fit 外文名\n",
      "fit 别名\n",
      "fit 拼音\n",
      "fit 国籍\n",
      "fit 本名\n",
      "fit 作者\n",
      "fit 类型\n",
      "fit 书名\n",
      "fit 作品名称\n"
     ]
    }
   ],
   "source": [
    "preds = np.zeros((len(test), len(label_cols)))\n",
    "# print(label_cols)\n",
    "for i, j in enumerate(label_cols):\n",
    "    print('fit', j)\n",
    "    m = get_mdl(trn_term_doc,train[j])\n",
    "    preds[:,i] = m.predict_proba(test_x)[:,1]"
   ]
  },
  {
   "cell_type": "markdown",
   "metadata": {},
   "source": []
  },
  {
   "cell_type": "code",
   "execution_count": null,
   "metadata": {},
   "outputs": [],
   "source": [
    "# len(test) as length, len(label_cols) as width init with zero\n",
    "# simvsm_similiar = np.zeros((len(test), len(label_cols)))\n",
    "# simvsm = SimVsm()\n",
    "# print(simvsm_similiar.shape)\n",
    "# for i, j in enumerate(label_cols):\n",
    "#     simvsm_similiar[:,i] = simvsm.arr_distance(test[COMMENT], j)"
   ]
  },
  {
   "cell_type": "code",
   "execution_count": 26,
   "metadata": {},
   "outputs": [],
   "source": [
    "submission = pd.DataFrame(preds, columns = label_cols)\n",
    "submission.to_csv('submission_test.csv', index=False)"
   ]
  }
 ],
 "metadata": {
  "interpreter": {
   "hash": "898ed891b6ff1e23027816acf32b2739ad056fe0dfc309790b36f7ba42cd713e"
  },
  "kernelspec": {
   "display_name": "Python 3.6.5 64-bit",
   "name": "python3"
  },
  "language_info": {
   "codemirror_mode": {
    "name": "ipython",
    "version": 3
   },
   "file_extension": ".py",
   "mimetype": "text/x-python",
   "name": "python",
   "nbconvert_exporter": "python",
   "pygments_lexer": "ipython3",
   "version": "3.6.5"
  },
  "orig_nbformat": 4
 },
 "nbformat": 4,
 "nbformat_minor": 2
}
